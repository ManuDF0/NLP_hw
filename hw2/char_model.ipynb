{
 "cells": [
  {
   "cell_type": "code",
   "execution_count": 14,
   "metadata": {},
   "outputs": [],
   "source": [
    "import random\n",
    "import os\n",
    "import sys"
   ]
  },
  {
   "cell_type": "code",
   "execution_count": 4,
   "metadata": {},
   "outputs": [],
   "source": [
    "with open('el_principito.txt', 'r', encoding='utf-8') as f:\n",
    "    text = f.read()"
   ]
  },
  {
   "cell_type": "code",
   "execution_count": 5,
   "metadata": {},
   "outputs": [],
   "source": [
    "letters = list(text)"
   ]
  },
  {
   "cell_type": "code",
   "execution_count": 6,
   "metadata": {},
   "outputs": [],
   "source": [
    "tri_counts = {}\n",
    "\n",
    "for i in range(0,len(letters)-2):\n",
    "  first = letters[i]\n",
    "  second = letters[i+1]\n",
    "  curr = letters[i+2]\n",
    "  if (first,second) not in tri_counts:\n",
    "    tri_counts[(first,second)] = {}\n",
    "  if curr not in tri_counts[(first,second)]:\n",
    "    tri_counts[(first,second)][curr] = 1\n",
    "  else:\n",
    "    tri_counts[(first,second)][curr] += 1"
   ]
  },
  {
   "cell_type": "code",
   "execution_count": 7,
   "metadata": {},
   "outputs": [],
   "source": [
    "probs = {}\n",
    "for history in tri_counts:\n",
    "  probs[history] = {}\n",
    "  for next_char in tri_counts[history]:\n",
    "    numerator = tri_counts[history][next_char]\n",
    "    denominator = sum(tri_counts[history].values())\n",
    "    probs[history][next_char] = numerator/denominator"
   ]
  },
  {
   "cell_type": "code",
   "execution_count": 9,
   "metadata": {},
   "outputs": [
    {
     "name": "stdout",
     "output_type": "stream",
     "text": [
      "['p', 'i']\n"
     ]
    }
   ],
   "source": [
    "new_text = []\n",
    "first = 'p'\n",
    "second = 'i'\n",
    "\n",
    "new_text.append(first)\n",
    "new_text.append(second)\n",
    "history = (first,second)\n",
    "print(new_text)\n",
    "for i in range(0,len(text)):\n",
    "  new_letter = random.choices(population=list(probs[history].keys()),weights=list(probs[history].values()),k=1)[0]\n",
    "  new_text.append(new_letter)\n",
    "  first = new_text[-2]\n",
    "  second = new_text[-1]\n",
    "  history = (first,second)\n",
    "new_text = ''.join(new_text)"
   ]
  },
  {
   "cell_type": "code",
   "execution_count": 17,
   "metadata": {},
   "outputs": [],
   "source": [
    "file = open('trigram_characters.txt', 'w', encoding = 'utf-8')\n",
    "file.write(''.join(new_text))\n",
    "file.close()"
   ]
  },
  {
   "cell_type": "code",
   "execution_count": 18,
   "metadata": {},
   "outputs": [],
   "source": [
    "hw1_path = os.path.abspath(\"../hw1\")\n",
    "sys.path.append(hw1_path)\n",
    "\n",
    "from hw1 import measure_complexity"
   ]
  },
  {
   "cell_type": "code",
   "execution_count": 19,
   "metadata": {},
   "outputs": [
    {
     "data": {
      "text/plain": [
       "'Title: Title not found. - Automated Readability Score: 4.308 - Flesch-Kincaid Index: 8.245 - Dale-Chall Readability Score: 3.637'"
      ]
     },
     "execution_count": 19,
     "metadata": {},
     "output_type": "execute_result"
    }
   ],
   "source": [
    "measure_complexity('trigram_characters.txt')"
   ]
  },
  {
   "cell_type": "code",
   "execution_count": null,
   "metadata": {},
   "outputs": [],
   "source": []
  }
 ],
 "metadata": {
  "kernelspec": {
   "display_name": "Python 3",
   "language": "python",
   "name": "python3"
  },
  "language_info": {
   "codemirror_mode": {
    "name": "ipython",
    "version": 3
   },
   "file_extension": ".py",
   "mimetype": "text/x-python",
   "name": "python",
   "nbconvert_exporter": "python",
   "pygments_lexer": "ipython3",
   "version": "3.12.6"
  }
 },
 "nbformat": 4,
 "nbformat_minor": 2
}
