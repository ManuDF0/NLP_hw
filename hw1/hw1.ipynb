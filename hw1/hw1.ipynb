{
 "cells": [
  {
   "cell_type": "code",
   "execution_count": 1,
   "metadata": {},
   "outputs": [
    {
     "name": "stdout",
     "output_type": "stream",
     "text": [
      "['1569.txt', '26814.txt', '27856.txt', '41803.txt', '43793.txt', '44374.txt', '45038.txt', '46156.txt', '47874.txt', '48882.txt', '52871.txt', '53808.txt', '56007.txt', '56652.txt', '59181.txt', '60174.txt', '61925.txt', '65182.txt', '67454.txt', '67586.txt', '67646.txt', '67979.txt', '68222.txt', '68273.txt', '68363.txt', '68833.txt', '68973.txt', '69071.txt', '69413.txt', '69569.txt', '70010.txt', '70290.txt', '70479.txt', '70696.txt', '70727.txt', '70837.txt', '70876.txt', '71024.txt', '71205.txt', '71376.txt', '71761.txt', '71769.txt', '71978.txt', '73080.txt']\n"
     ]
    }
   ],
   "source": [
    "import os\n",
    "import re\n",
    "\n",
    "files = os.listdir('./Novels')\n",
    "print(files)"
   ]
  },
  {
   "cell_type": "code",
   "execution_count": 2,
   "metadata": {},
   "outputs": [],
   "source": [
    "def count_syllables(word):\n",
    "    vowels = \"aeiouáéíóú\"\n",
    "    word = word.lower().strip()\n",
    "    if word.endswith('e') or word.endswith('s'):\n",
    "        word = word[:-1]\n",
    "    \n",
    "    syllable_count = 0\n",
    "    previous_char_was_vowel = False\n",
    "    \n",
    "    for char in word:\n",
    "        if char in vowels:\n",
    "            if not previous_char_was_vowel: # Si ahora tengo una vocal y la anterior no fue vocal, me agrega una sílaba\n",
    "                syllable_count += 1\n",
    "            previous_char_was_vowel = True # Seteo que la previa fue vocal\n",
    "        else:\n",
    "            previous_char_was_vowel = False \n",
    "\n",
    "    return syllable_count"
   ]
  },
  {
   "cell_type": "code",
   "execution_count": 3,
   "metadata": {},
   "outputs": [
    {
     "name": "stdout",
     "output_type": "stream",
     "text": [
      "1\n",
      "3\n"
     ]
    }
   ],
   "source": [
    "# Testeo que esté bien\n",
    "print(count_syllables('creeps'))\n",
    "print(count_syllables('devotion'))"
   ]
  },
  {
   "cell_type": "code",
   "execution_count": 4,
   "metadata": {},
   "outputs": [],
   "source": [
    "def difficult_word(word):\n",
    "    n_syllabes = count_syllables(word)\n",
    "    if n_syllabes > 2:\n",
    "        difficult_word = 1\n",
    "    else:\n",
    "        difficult_word = 0\n",
    "    return difficult_word"
   ]
  },
  {
   "cell_type": "code",
   "execution_count": 5,
   "metadata": {},
   "outputs": [
    {
     "name": "stdout",
     "output_type": "stream",
     "text": [
      "0\n",
      "1\n"
     ]
    }
   ],
   "source": [
    "print(difficult_word('cat'))\n",
    "print(difficult_word('ubiquitous'))"
   ]
  },
  {
   "cell_type": "code",
   "execution_count": 6,
   "metadata": {},
   "outputs": [],
   "source": [
    "root = './Novels/'\n",
    "number_sentences = []\n",
    "number_words = []\n",
    "number_characters = []\n",
    "number_syllables = []\n",
    "difficult_words = []\n",
    "for file in files:\n",
    "    file_path = root + file\n",
    "    if file_path.endswith('.txt'):\n",
    "        with open(file_path, 'r', encoding='utf-8') as f:\n",
    "            file_content = f.read()\n",
    "            replaced_text = file_content.replace('!', '.').replace('?', '.').replace('\\n', ' ')\n",
    "            sentences = replaced_text.split('.')\n",
    "            number_sentences.append(len(sentences))\n",
    "            #words = replaced_text.split(' ') # Sin regexp\n",
    "            words = re.findall(r'\\b\\w+\\b', replaced_text) # Con regexp\n",
    "            number_words.append(len(words))\n",
    "            character_count = 0\n",
    "            syllable_count = 0\n",
    "            difficult_word_count = 0\n",
    "            for word in words:\n",
    "                character_count += len(word)\n",
    "                syllable_count += count_syllables(word)\n",
    "                difficult_word_count += difficult_word(word)\n",
    "            number_characters.append(character_count)\n",
    "            number_syllables.append(syllable_count)\n",
    "            difficult_words.append(difficult_word_count)"
   ]
  },
  {
   "cell_type": "code",
   "execution_count": 7,
   "metadata": {},
   "outputs": [
    {
     "name": "stdout",
     "output_type": "stream",
     "text": [
      "File: 1569.txt - Sentences: 4946 - Words: 105311 - Characters: 456532 - Syllables: 133122 - Difficult Words: 9620\n",
      "File: 26814.txt - Sentences: 2286 - Words: 37844 - Characters: 159761 - Syllables: 46303 - Difficult Words: 4282\n",
      "File: 27856.txt - Sentences: 4445 - Words: 60987 - Characters: 260868 - Syllables: 78097 - Difficult Words: 5604\n",
      "File: 41803.txt - Sentences: 8669 - Words: 125379 - Characters: 532929 - Syllables: 152077 - Difficult Words: 8119\n",
      "File: 43793.txt - Sentences: 2477 - Words: 42596 - Characters: 174078 - Syllables: 50931 - Difficult Words: 2552\n",
      "File: 44374.txt - Sentences: 3422 - Words: 52573 - Characters: 228958 - Syllables: 65420 - Difficult Words: 4551\n",
      "File: 45038.txt - Sentences: 10966 - Words: 191783 - Characters: 781077 - Syllables: 228541 - Difficult Words: 11302\n",
      "File: 46156.txt - Sentences: 8656 - Words: 219232 - Characters: 891472 - Syllables: 262476 - Difficult Words: 12511\n",
      "File: 47874.txt - Sentences: 8563 - Words: 170515 - Characters: 708060 - Syllables: 211453 - Difficult Words: 13872\n",
      "File: 48882.txt - Sentences: 8713 - Words: 94714 - Characters: 397498 - Syllables: 115056 - Difficult Words: 6391\n",
      "File: 52871.txt - Sentences: 5359 - Words: 82844 - Characters: 549759 - Syllables: 169299 - Difficult Words: 25490\n",
      "File: 53808.txt - Sentences: 2297 - Words: 39232 - Characters: 169966 - Syllables: 49776 - Difficult Words: 3954\n",
      "File: 56007.txt - Sentences: 2832 - Words: 50054 - Characters: 218777 - Syllables: 63382 - Difficult Words: 4472\n",
      "File: 56652.txt - Sentences: 1572 - Words: 21869 - Characters: 97276 - Syllables: 28420 - Difficult Words: 2187\n",
      "File: 59181.txt - Sentences: 9940 - Words: 108862 - Characters: 447588 - Syllables: 129186 - Difficult Words: 7307\n",
      "File: 60174.txt - Sentences: 11606 - Words: 264560 - Characters: 1197636 - Syllables: 358613 - Difficult Words: 35352\n",
      "File: 61925.txt - Sentences: 5911 - Words: 89511 - Characters: 402503 - Syllables: 117919 - Difficult Words: 9635\n",
      "File: 65182.txt - Sentences: 4517 - Words: 86027 - Characters: 366092 - Syllables: 105415 - Difficult Words: 6646\n",
      "File: 67454.txt - Sentences: 6950 - Words: 120579 - Characters: 509136 - Syllables: 148378 - Difficult Words: 10247\n",
      "File: 67586.txt - Sentences: 6090 - Words: 80661 - Characters: 330741 - Syllables: 93431 - Difficult Words: 3407\n",
      "File: 67646.txt - Sentences: 3838 - Words: 69317 - Characters: 288791 - Syllables: 83899 - Difficult Words: 4769\n",
      "File: 67979.txt - Sentences: 6489 - Words: 74678 - Characters: 317857 - Syllables: 92355 - Difficult Words: 5298\n",
      "File: 68222.txt - Sentences: 3095 - Words: 36220 - Characters: 153164 - Syllables: 45570 - Difficult Words: 3353\n",
      "File: 68273.txt - Sentences: 7390 - Words: 100685 - Characters: 419935 - Syllables: 121331 - Difficult Words: 7544\n",
      "File: 68363.txt - Sentences: 2436 - Words: 48944 - Characters: 206287 - Syllables: 59803 - Difficult Words: 3681\n",
      "File: 68833.txt - Sentences: 2031 - Words: 31296 - Characters: 133680 - Syllables: 37842 - Difficult Words: 2074\n",
      "File: 68973.txt - Sentences: 556 - Words: 13966 - Characters: 60142 - Syllables: 16433 - Difficult Words: 1256\n",
      "File: 69071.txt - Sentences: 4064 - Words: 63574 - Characters: 269641 - Syllables: 78218 - Difficult Words: 4602\n",
      "File: 69413.txt - Sentences: 6426 - Words: 103561 - Characters: 437590 - Syllables: 127348 - Difficult Words: 8596\n",
      "File: 69569.txt - Sentences: 1781 - Words: 34521 - Characters: 145922 - Syllables: 42596 - Difficult Words: 2353\n",
      "File: 70010.txt - Sentences: 4317 - Words: 78928 - Characters: 332488 - Syllables: 96364 - Difficult Words: 5637\n",
      "File: 70290.txt - Sentences: 4487 - Words: 107705 - Characters: 466370 - Syllables: 136735 - Difficult Words: 10186\n",
      "File: 70479.txt - Sentences: 7107 - Words: 135490 - Characters: 574161 - Syllables: 169620 - Difficult Words: 11562\n",
      "File: 70696.txt - Sentences: 6830 - Words: 136385 - Characters: 575784 - Syllables: 168871 - Difficult Words: 10941\n",
      "File: 70727.txt - Sentences: 5184 - Words: 72917 - Characters: 308045 - Syllables: 87966 - Difficult Words: 5079\n",
      "File: 70837.txt - Sentences: 5478 - Words: 88847 - Characters: 373913 - Syllables: 109385 - Difficult Words: 6482\n",
      "File: 70876.txt - Sentences: 4059 - Words: 19489 - Characters: 87357 - Syllables: 25168 - Difficult Words: 2206\n",
      "File: 71024.txt - Sentences: 3086 - Words: 56021 - Characters: 234518 - Syllables: 68173 - Difficult Words: 3999\n",
      "File: 71205.txt - Sentences: 4041 - Words: 68580 - Characters: 291493 - Syllables: 84636 - Difficult Words: 5596\n",
      "File: 71376.txt - Sentences: 3972 - Words: 64265 - Characters: 268844 - Syllables: 76814 - Difficult Words: 4094\n",
      "File: 71761.txt - Sentences: 5011 - Words: 72481 - Characters: 294753 - Syllables: 87440 - Difficult Words: 5359\n",
      "File: 71769.txt - Sentences: 5909 - Words: 81986 - Characters: 337374 - Syllables: 97210 - Difficult Words: 4812\n",
      "File: 71978.txt - Sentences: 4448 - Words: 47451 - Characters: 199855 - Syllables: 59175 - Difficult Words: 4225\n",
      "File: 73080.txt - Sentences: 4371 - Words: 70856 - Characters: 306576 - Syllables: 90054 - Difficult Words: 6333\n"
     ]
    }
   ],
   "source": [
    "for i, file in enumerate(files):\n",
    "    print(f\"File: {file} - Sentences: {number_sentences[i]} - Words: {number_words[i]} - Characters: {number_characters[i]} - Syllables: {number_syllables[i]} - Difficult Words: {difficult_words[i]}\")"
   ]
  },
  {
   "cell_type": "code",
   "execution_count": 8,
   "metadata": {},
   "outputs": [],
   "source": [
    "ars = []\n",
    "fki = []\n",
    "d_c = []\n",
    "for i in range(0, len(number_words)):\n",
    "    cpw = number_characters[i]/number_words[i]\n",
    "    wps = number_words[i]/number_sentences[i]\n",
    "    spw = number_syllables[i]/number_words[i]\n",
    "    diff_words = difficult_words[i]/number_words[i]\n",
    "    ars_val = 4.71*cpw + 0.5*wps - 21.43\n",
    "    ars.append(ars_val)\n",
    "    fki_val = 0.39*wps + 11.8*spw - 15.59\n",
    "    fki.append(fki_val)\n",
    "    d_c_val = 15.79*diff_words + 0.0496*wps\n",
    "    d_c.append(d_c_val)"
   ]
  },
  {
   "cell_type": "code",
   "execution_count": 9,
   "metadata": {},
   "outputs": [
    {
     "name": "stdout",
     "output_type": "stream",
     "text": [
      "File: 1569.txt - Automated Readability Score: 9.634321886485044 - Flesch-Kinkaid Index: 7.630137346586292 - Dale-Chall Readability Score: 2.498483434332715\n",
      "File: 26814.txt - Automated Readability Score: 6.7309231989630405 - Flesch-Kinkaid Index: 5.303895483627912 - Dale-Chall Readability Score: 2.6077303831551233\n",
      "File: 27856.txt - Automated Readability Score: 5.5769043613879035 - Flesch-Kinkaid Index: 4.871449179408923 - Dale-Chall Readability Score: 2.13144824621257\n",
      "File: 41803.txt - Automated Readability Score: 5.821520801742587 - Flesch-Kinkaid Index: 4.3632091701904905 - Dale-Chall Readability Score: 1.7398524106181026\n",
      "File: 43793.txt - Automated Readability Score: 6.416763880247814 - Flesch-Kinkaid Index: 5.225650105868343 - Dale-Chall Readability Score: 1.7989579942931064\n",
      "File: 44374.txt - Automated Readability Score: 6.763900525703576 - Flesch-Kinkaid Index: 5.085169513314728 - Dale-Chall Readability Score: 2.12888343126531\n",
      "File: 45038.txt - Automated Readability Score: 6.496912701558944 - Flesch-Kinkaid Index: 5.2923026772008015 - Dale-Chall Readability Score: 1.7979716414979086\n",
      "File: 46156.txt - Automated Readability Score: 10.386050555648339 - Flesch-Kinkaid Index: 8.415173308752369 - Dale-Chall Readability Score: 2.1573219553772116\n",
      "File: 47874.txt - Automated Readability Score: 8.084676177031469 - Flesch-Kinkaid Index: 6.809065645219988 - Dale-Chall Readability Score: 2.2722571908981077\n",
      "File: 48882.txt - Automated Readability Score: 3.7722533725887075 - Flesch-Kinkaid Index: 2.9837853308535855 - Dale-Chall Readability Score: 1.6046320720948497\n",
      "File: 52871.txt - Automated Readability Score: 17.555340535432983 - Flesch-Kinkaid Index: 14.553290954415282 - Dale-Chall Readability Score: 5.625132741087913\n",
      "File: 53808.txt - Automated Readability Score: 7.51511240124718 - Flesch-Kinkaid Index: 6.042441272075571 - Dale-Chall Readability Score: 2.438547898164568\n",
      "File: 56007.txt - Automated Readability Score: 7.993777429415779 - Flesch-Kinkaid Index: 6.245044285222807 - Dale-Chall Readability Score: 2.2873859846732763\n",
      "File: 56652.txt - Automated Readability Score: 6.476447727661721 - Flesch-Kinkaid Index: 5.170281374450713 - Dale-Chall Readability Score: 2.269086452025169\n",
      "File: 59181.txt - Automated Readability Score: 3.4112023769447006 - Flesch-Kinkaid Index: 2.6842474386285744 - Dale-Chall Readability Score: 1.6030660884548165\n",
      "File: 60174.txt - Automated Readability Score: 11.289240168544666 - Flesch-Kinkaid Index: 9.295076968598192 - Dale-Chall Readability Score: 3.2405861528720346\n",
      "File: 61925.txt - Automated Readability Score: 7.320959893479092 - Flesch-Kinkaid Index: 5.860769983573661 - Dale-Chall Readability Score: 2.450740843803561\n",
      "File: 65182.txt - Automated Readability Score: 8.136210917471253 - Flesch-Kinkaid Index: 6.296992492425556 - Dale-Chall Readability Score: 2.164493605198973\n",
      "File: 67454.txt - Automated Readability Score: 7.13237838579931 - Flesch-Kinkaid Index: 5.6967457968419914 - Dale-Chall Readability Score: 2.202394964027106\n",
      "File: 67586.txt - Automated Readability Score: 4.505218122333186 - Flesch-Kinkaid Index: 3.2436222560234 - Dale-Chall Readability Score: 1.323889432084642\n",
      "File: 67646.txt - Automated Readability Score: 7.223327215024241 - Flesch-Kinkaid Index: 5.736005404154707 - Dale-Chall Readability Score: 1.9821609648186227\n",
      "File: 67979.txt - Automated Readability Score: 4.371689572137502 - Flesch-Kinkaid Index: 3.4914489008423644 - Dale-Chall Readability Score: 1.6910316385510322\n",
      "File: 68222.txt - Automated Readability Score: 4.338613381337709 - Flesch-Kinkaid Index: 3.8201782055273448 - Dale-Chall Readability Score: 2.0421864792343327\n",
      "File: 68273.txt - Automated Readability Score: 5.026620813194171 - Flesch-Kinkaid Index: 3.9432054718144194 - Dale-Chall Readability Score: 1.8588682409930406\n",
      "File: 68363.txt - Automated Readability Score: 8.467476071644633 - Flesch-Kinkaid Index: 6.663878577628481 - Dale-Chall Readability Score: 2.184101578252227\n",
      "File: 68833.txt - Automated Readability Score: 6.393213994435936 - Flesch-Kinkaid Index: 4.6877081426538965 - Dale-Chall Readability Score: 1.8107046431764702\n",
      "File: 68973.txt - Automated Readability Score: 11.412097756421815 - Flesch-Kinkaid Index: 8.090685627067586 - Dale-Chall Readability Score: 2.6659250030649977\n",
      "File: 69071.txt - Automated Readability Score: 6.3684676710679256 - Flesch-Kinkaid Index: 5.028931096076516 - Dale-Chall Readability Score: 1.918910982997308\n",
      "File: 69413.txt - Automated Readability Score: 6.52975401826426 - Flesch-Kinkaid Index: 5.20556517405841 - Dale-Chall Readability Score: 2.1099870186637646\n",
      "File: 69569.txt - Automated Readability Score: 8.170871917086622 - Flesch-Kinkaid Index: 6.529546999530805 - Dale-Chall Readability Score: 2.0376620225779942\n",
      "File: 70010.txt - Automated Readability Score: 7.552635235951421 - Flesch-Kinkaid Index: 5.9471364287005315 - Dale-Chall Readability Score: 2.0345543663490115\n",
      "File: 70290.txt - Automated Readability Score: 10.966515781107148 - Flesch-Kinkaid Index: 8.751961330664624 - Dale-Chall Readability Score: 2.683897794853082\n",
      "File: 70479.txt - Automated Readability Score: 8.06154552505582 - Flesch-Kinkaid Index: 6.617504101321533 - Dale-Chall Readability Score: 2.2930245063431207\n",
      "File: 70696.txt - Automated Readability Score: 8.438724742220835 - Flesch-Kinkaid Index: 6.808404806209449 - Dale-Chall Readability Score: 2.25713506389709\n",
      "File: 70727.txt - Automated Readability Score: 5.50074544172454 - Flesch-Kinkaid Index: 4.131000973598724 - Dale-Chall Readability Score: 1.797507820743084\n",
      "File: 70837.txt - Automated Readability Score: 6.50149398250311 - Flesch-Kinkaid Index: 5.263066376731846 - Dale-Chall Readability Score: 1.9564453747864825\n",
      "File: 70876.txt - Automated Readability Score: 2.082699171013278 - Flesch-Kinkaid Index: 1.5210200026797018 - Dale-Chall Readability Score: 2.0254534555427512\n",
      "File: 71024.txt - Automated Readability Score: 7.363881384264253 - Flesch-Kinkaid Index: 5.8494165445411 - Dale-Chall Readability Score: 2.027554829502588\n",
      "File: 71205.txt - Automated Readability Score: 7.074946394924467 - Flesch-Kinkaid Index: 5.591332912450532 - Dale-Chall Readability Score: 2.1301984488390326\n",
      "File: 71376.txt - Automated Readability Score: 6.363405960998762 - Flesch-Kinkaid Index: 4.824188677899269 - Dale-Chall Readability Score: 1.8084050262676674\n",
      "File: 71761.txt - Automated Readability Score: 4.955989903984388 - Flesch-Kinkaid Index: 4.286451998453941 - Dale-Chall Readability Score: 1.8848923632356713\n",
      "File: 71769.txt - Automated Readability Score: 4.889126144676872 - Flesch-Kinkaid Index: 3.812304078208882 - Dale-Chall Readability Score: 1.614950100515574\n",
      "File: 71978.txt - Automated Readability Score: 3.741635494127298 - Flesch-Kinkaid Index: 3.2859928378502268 - Dale-Chall Readability Score: 1.9350591305244986\n",
      "File: 73080.txt - Automated Readability Score: 7.054218414102806 - Flesch-Kinkaid Index: 5.729224336128787 - Dale-Chall Readability Score: 2.2153255636644333\n"
     ]
    }
   ],
   "source": [
    "for i, file in enumerate(files):\n",
    "    print(f\"File: {file} - Automated Readability Score: {ars[i]} - Flesch-Kinkaid Index: {fki[i]} - Dale-Chall Readability Score: {d_c[i]}\")"
   ]
  },
  {
   "cell_type": "code",
   "execution_count": 10,
   "metadata": {},
   "outputs": [],
   "source": [
    "# Una función para encontrar el titulo usando regex\n",
    "def find_title(filecontent):\n",
    "    match = re.search(r'Title:\\s*(.+?)\\n', filecontent)\n",
    "    if match:\n",
    "        return match.group(1).strip()\n",
    "    else:\n",
    "        return \"Title not found.\""
   ]
  },
  {
   "cell_type": "code",
   "execution_count": 11,
   "metadata": {},
   "outputs": [],
   "source": [
    "def measure_complexity(filepath):\n",
    "    if filepath.endswith('.txt'):\n",
    "        with open(filepath, 'r', encoding='utf-8') as f:\n",
    "            file_content = f.read()\n",
    "            title = find_title(file_content)\n",
    "            replaced_text = file_content.replace('!', '.').replace('?', '.').replace('\\n', ' ')\n",
    "            sentences = [s.strip() for s in replaced_text.split('.') if s.strip()] # Filtra oraciones vacías\n",
    "            sentence_count = len(sentences)\n",
    "            if sentence_count == 0:\n",
    "                return \"The file does not contain any sentences.\"\n",
    "            #words = replaced_text.split(' ')\n",
    "            words = re.findall(r'\\b\\w+\\b', replaced_text) # Usa regex para definir palabras\n",
    "            word_count = len(words)\n",
    "            if word_count == 0:\n",
    "                return \"The file does not contain any words.\"\n",
    "            character_count = 0\n",
    "            syllable_count = 0\n",
    "            difficult_word_count = 0\n",
    "            for word in words:\n",
    "                character_count += len(word)\n",
    "                syllable_count += count_syllables(word)\n",
    "                difficult_word_count += difficult_word(word)\n",
    "            cpw = character_count/word_count\n",
    "            wps = word_count/sentence_count\n",
    "            spw = syllable_count/word_count\n",
    "            diff_words = difficult_word_count/word_count\n",
    "            ars = 4.71*cpw + 0.5*wps - 21.43\n",
    "            fki = 0.39*wps + 11.8*spw - 15.59\n",
    "            d_c = 15.79*diff_words + 0.0496*wps\n",
    "    #return title, ars, fki, d_c\n",
    "    return (f\"Title: {title} - Automated Readability Score: {ars:.3f} - \"\n",
    "                f\"Flesch-Kincaid Index: {fki:.3f} - \"\n",
    "                f\"Dale-Chall Readability Score: {d_c:.3f}\")\n",
    "    "
   ]
  },
  {
   "cell_type": "code",
   "execution_count": 14,
   "metadata": {},
   "outputs": [
    {
     "data": {
      "text/plain": [
       "'Title: Laakson lilja: Maaseutuelämän kuvaus - Automated Readability Score: 17.748 - Flesch-Kincaid Index: 14.703 - Dale-Chall Readability Score: 5.644'"
      ]
     },
     "execution_count": 14,
     "metadata": {},
     "output_type": "execute_result"
    }
   ],
   "source": [
    "measure_complexity(root + files[10])"
   ]
  },
  {
   "cell_type": "code",
   "execution_count": null,
   "metadata": {},
   "outputs": [],
   "source": []
  }
 ],
 "metadata": {
  "kernelspec": {
   "display_name": "Python 3",
   "language": "python",
   "name": "python3"
  },
  "language_info": {
   "codemirror_mode": {
    "name": "ipython",
    "version": 3
   },
   "file_extension": ".py",
   "mimetype": "text/x-python",
   "name": "python",
   "nbconvert_exporter": "python",
   "pygments_lexer": "ipython3",
   "version": "3.12.6"
  }
 },
 "nbformat": 4,
 "nbformat_minor": 2
}
