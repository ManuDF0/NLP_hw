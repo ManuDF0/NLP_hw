{
 "cells": [
  {
   "cell_type": "code",
   "execution_count": 2,
   "metadata": {},
   "outputs": [
    {
     "name": "stdout",
     "output_type": "stream",
     "text": [
      "['1569.txt', '26814.txt', '27856.txt', '41803.txt', '43793.txt', '44374.txt', '45038.txt', '46156.txt', '47874.txt', '48882.txt', '52871.txt', '53808.txt', '56007.txt', '56652.txt', '59181.txt', '60174.txt', '61925.txt', '65182.txt', '67454.txt', '67586.txt', '67646.txt', '67979.txt', '68222.txt', '68273.txt', '68363.txt', '68833.txt', '68973.txt', '69071.txt', '69413.txt', '69569.txt', '70010.txt', '70290.txt', '70479.txt', '70696.txt', '70727.txt', '70837.txt', '70876.txt', '71024.txt', '71205.txt', '71376.txt', '71761.txt', '71769.txt', '71978.txt', '73080.txt']\n"
     ]
    }
   ],
   "source": [
    "import os\n",
    "import re\n",
    "\n",
    "files = os.listdir('./Novels')\n",
    "print(files)"
   ]
  },
  {
   "cell_type": "code",
   "execution_count": 2,
   "metadata": {},
   "outputs": [],
   "source": [
    "def count_syllables(word):\n",
    "    vowels = \"aeiouáéíóúüAEIOUÁÉÍÓÚÜ\"\n",
    "    if word.endswith('e'):\n",
    "        word = word[:-1]\n",
    "    if word.endswith('s'):\n",
    "        word = word[:-1]\n",
    "    \n",
    "    syllable_count = 0\n",
    "    previous_char_was_vowel = False\n",
    "    \n",
    "    for char in word:\n",
    "        if char in vowels:\n",
    "            if not previous_char_was_vowel: # Si ahora tengo una vocal y la anterior no fue vocal, me agrega una sílaba\n",
    "                syllable_count += 1\n",
    "            previous_char_was_vowel = True # Seteo que la previa fue vocal\n",
    "        else:\n",
    "            previous_char_was_vowel = False \n",
    "\n",
    "    return syllable_count"
   ]
  },
  {
   "cell_type": "code",
   "execution_count": 10,
   "metadata": {},
   "outputs": [
    {
     "name": "stdout",
     "output_type": "stream",
     "text": [
      "1\n",
      "3\n",
      "1\n",
      "12\n"
     ]
    }
   ],
   "source": [
    "# Testeo que esté bien\n",
    "print(count_syllables('creeps'))\n",
    "print(count_syllables('devotion'))"
   ]
  },
  {
   "cell_type": "code",
   "execution_count": 5,
   "metadata": {},
   "outputs": [],
   "source": [
    "def difficult_word(word):\n",
    "    n_syllabes = count_syllables(word)\n",
    "    if n_syllabes > 2:\n",
    "        difficult_word = 1\n",
    "    else:\n",
    "        difficult_word = 0\n",
    "    return difficult_word"
   ]
  },
  {
   "cell_type": "code",
   "execution_count": 6,
   "metadata": {},
   "outputs": [
    {
     "name": "stdout",
     "output_type": "stream",
     "text": [
      "0\n",
      "1\n"
     ]
    }
   ],
   "source": [
    "print(difficult_word('cat'))\n",
    "print(difficult_word('ubiquitous'))"
   ]
  },
  {
   "cell_type": "code",
   "execution_count": 7,
   "metadata": {},
   "outputs": [],
   "source": [
    "root = './Novels/'\n",
    "number_sentences = []\n",
    "number_words = []\n",
    "number_characters = []\n",
    "number_syllables = []\n",
    "difficult_words = []\n",
    "for file in files:\n",
    "    file_path = root + file\n",
    "    if file_path.endswith('.txt'):\n",
    "        with open(file_path, 'r', encoding='utf-8') as f:\n",
    "            file_content = f.read()\n",
    "            replaced_text = file_content.replace('!', '.').replace('?', '.').replace('\\n', ' ')\n",
    "            sentences = replaced_text.split('.')\n",
    "            number_sentences.append(len(sentences))\n",
    "            word_count = 0\n",
    "            character_count = 0\n",
    "            syllable_count = 0\n",
    "            difficult_word_count = 0\n",
    "            for sentence in sentences:\n",
    "                words = sentence.split(' ')\n",
    "                word_count += len(words)\n",
    "                for word in words:\n",
    "                    character_count += len(word)\n",
    "                    syllable_count += count_syllables(word)\n",
    "                    difficult_word_count += difficult_word(word)\n",
    "            number_words.append(word_count)\n",
    "            number_characters.append(character_count)\n",
    "            number_syllables.append(syllable_count)\n",
    "            difficult_words.append(difficult_word_count)"
   ]
  },
  {
   "cell_type": "code",
   "execution_count": null,
   "metadata": {},
   "outputs": [],
   "source": [
    "for i, file in enumerate(files):\n",
    "    print(f\"File: {file} - Sentences: {number_sentences[i]} - Words: {number_words[i]} - Characters: {number_characters[i]} - Syllables: {number_syllables[i]} - Difficult Words: {difficult_words[i]}\")"
   ]
  },
  {
   "cell_type": "code",
   "execution_count": 9,
   "metadata": {},
   "outputs": [],
   "source": [
    "ars = []\n",
    "fki = []\n",
    "d_c = []\n",
    "for i in range(0, len(number_words)):\n",
    "    cpw = number_characters[i]/number_words[i]\n",
    "    wps = number_words[i]/number_sentences[i]\n",
    "    spw = number_syllables[i]/number_words[i]\n",
    "    diff_words = difficult_words[i]/number_words[i]\n",
    "    ars_val = 4.71*cpw + 0.5*wps - 21.43\n",
    "    ars.append(ars_val)\n",
    "    fki_val = 0.39*wps + 11.8*spw - 15.59\n",
    "    fki.append(fki_val)\n",
    "    d_c_val = 15.79*diff_words + 0.0496*wps\n",
    "    d_c.append(d_c_val)"
   ]
  },
  {
   "cell_type": "code",
   "execution_count": null,
   "metadata": {},
   "outputs": [],
   "source": [
    "for i, file in enumerate(files):\n",
    "    print(f\"File: {file} - Automated Readability Score: {ars[i]} - Flesch-Kinkaid Index: {fki[i]} - Dale-Chall Readability Score: {d_c[i]}\")"
   ]
  },
  {
   "cell_type": "code",
   "execution_count": 19,
   "metadata": {},
   "outputs": [],
   "source": [
    "# Una función para encontrar el titulo usando regex\n",
    "def find_title(filecontent):\n",
    "    match = re.search(r'Title:\\s*(.+?)\\n', filecontent)\n",
    "    if match:\n",
    "        return match.group(1).strip()\n",
    "    else:\n",
    "        return \"Title not found.\""
   ]
  },
  {
   "cell_type": "code",
   "execution_count": 20,
   "metadata": {},
   "outputs": [],
   "source": [
    "def measure_complexity(filepath):\n",
    "    if filepath.endswith('.txt'):\n",
    "        with open(filepath, 'r', encoding='utf-8') as f:\n",
    "            file_content = f.read()\n",
    "            title = find_title(file_content)\n",
    "            replaced_text = file_content.replace('!', '.').replace('?', '.').replace('\\n', ' ')\n",
    "            sentences = [s.strip() for s in replaced_text.split('.') if s.strip()] # Filtra oraciones vacías\n",
    "            sentence_count = len(sentences)\n",
    "            if sentence_count == 0:\n",
    "                return \"The file does not contain any sentences.\"\n",
    "            word_count = 0\n",
    "            character_count = 0\n",
    "            syllable_count = 0\n",
    "            difficult_word_count = 0\n",
    "            for sentence in sentences:\n",
    "                words = re.findall(r'\\b\\w+\\b', sentence) # Usa regex para definir palabras\n",
    "                word_count += len(words)\n",
    "                for word in words:\n",
    "                    character_count += len(word)\n",
    "                    syllable_count += count_syllables(word)\n",
    "                    difficult_word_count += difficult_word(word)\n",
    "            if word_count == 0:\n",
    "                return \"The file does not contain any words.\"\n",
    "            cpw = character_count/word_count\n",
    "            wps = word_count/sentence_count\n",
    "            spw = syllable_count/word_count\n",
    "            diff_words = difficult_word_count/word_count\n",
    "            ars = 4.71*cpw + 0.5*wps - 21.43\n",
    "            fki = 0.39*wps + 11.8*spw - 15.59\n",
    "            d_c = 15.79*diff_words + 0.0496*wps\n",
    "    return (f\"Title: {title} - Automated Readability Score: {ars:.3f} - \"\n",
    "                f\"Flesch-Kincaid Index: {fki:.3f} - \"\n",
    "                f\"Dale-Chall Readability Score: {d_c:.3f}\")\n",
    "    "
   ]
  },
  {
   "cell_type": "code",
   "execution_count": 28,
   "metadata": {},
   "outputs": [
    {
     "data": {
      "text/plain": [
       "\"Title: All for Love; or, Her Heart's Sacrifice - Automated Readability Score: 7.226 - Flesch-Kincaid Index: 5.753 - Dale-Chall Readability Score: 1.984\""
      ]
     },
     "execution_count": 28,
     "metadata": {},
     "output_type": "execute_result"
    }
   ],
   "source": [
    "measure_complexity(root + files[0])"
   ]
  },
  {
   "cell_type": "code",
   "execution_count": null,
   "metadata": {},
   "outputs": [],
   "source": []
  }
 ],
 "metadata": {
  "kernelspec": {
   "display_name": "Python 3",
   "language": "python",
   "name": "python3"
  },
  "language_info": {
   "codemirror_mode": {
    "name": "ipython",
    "version": 3
   },
   "file_extension": ".py",
   "mimetype": "text/x-python",
   "name": "python",
   "nbconvert_exporter": "python",
   "pygments_lexer": "ipython3",
   "version": "3.12.6"
  }
 },
 "nbformat": 4,
 "nbformat_minor": 2
}
